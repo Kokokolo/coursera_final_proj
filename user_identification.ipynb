{
 "cells": [
  {
   "cell_type": "markdown",
   "metadata": {},
   "source": [
    "## Цели и задачи проекта, описание исходных и обработанных данных и признаков.\n",
    "* **Цели и задачи:** по последовательности из нескольких веб-сайтов, посещенных подряд одним и тем же человеком, мы будем идентифицировать этого человека. Идея такая: пользователи Интернета по-разному переходят по ссылкам, и это может помогать их идентифицировать (кто-то сначала в почту, потом про футбол почитать, затем новости, контакт, потом наконец – работать, кто-то – сразу работать, если это возможно).\n",
    "* **Исходные данные:**\n",
    "    * Признаки **site_i** – это индексы посещенных сайтов (расшифровка дана в pickle-файле со словарем site_dic.pkl)\n",
    "    * Признаки **time_j** – время посещения сайтов site_j\n",
    "    * Целевой признак **target** – факт того, что сессия принадлежит Элис (то есть что именно Элис ходила по всем этим сайтам)\n"
   ]
  },
  {
   "cell_type": "markdown",
   "metadata": {},
   "source": [
    "## Первичный анализ признаков и создание новых"
   ]
  },
  {
   "cell_type": "markdown",
   "metadata": {},
   "source": [
    "Загрузим данные и обьеденим их в один датасет, для дальнейшего добавления дополнительных признаков"
   ]
  },
  {
   "cell_type": "code",
   "execution_count": 15,
   "metadata": {},
   "outputs": [],
   "source": [
    "import warnings\n",
    "warnings.filterwarnings('ignore')\n",
    "\n",
    "import os\n",
    "import pandas as pd\n",
    "import numpy as np\n",
    "\n",
    "%matplotlib inline\n",
    "from matplotlib import pyplot as plt\n",
    "from sklearn.model_selection import train_test_split, cross_val_score, StratifiedKFold, GridSearchCV,  learning_curve,  validation_curve\n",
    "from sklearn.metrics import roc_auc_score\n",
    "from sklearn.linear_model import SGDClassifier, LogisticRegression, LogisticRegressionCV\n",
    "from sklearn.svm import LinearSVC\n",
    "from scipy.sparse import csr_matrix\n",
    "from scipy.sparse import hstack\n",
    "from sklearn.preprocessing import StandardScaler"
   ]
  },
  {
   "cell_type": "code",
   "execution_count": 16,
   "metadata": {},
   "outputs": [],
   "source": [
    "times = ['time%s' % i for i in range(1, 11)]\n",
    "sites = ['site%s' % i for i in range(1, 11)]"
   ]
  },
  {
   "cell_type": "code",
   "execution_count": 156,
   "metadata": {},
   "outputs": [],
   "source": [
    "PATH_TO_DATA = 'capstone_user_identification'\n",
    "\n",
    "train_df = pd.read_csv(os.path.join(PATH_TO_DATA, 'train_sessions.csv'),\n",
    "                       index_col='session_id', parse_dates=times)\n",
    "test_df = pd.read_csv(os.path.join(PATH_TO_DATA, 'test_sessions.csv'),\n",
    "                      index_col='session_id', parse_dates=times)\n",
    "# y = train_df['target'].values"
   ]
  },
  {
   "cell_type": "code",
   "execution_count": 157,
   "metadata": {},
   "outputs": [],
   "source": [
    "train_df = pd.concat([train_df[(train_df['target']==0)], train_df[(train_df['target']==1) & (train_df['time1'].dt.year*100+train_df['time1'].dt.year>201309)]])\n",
    "y = train_df['target'].values"
   ]
  },
  {
   "cell_type": "code",
   "execution_count": 158,
   "metadata": {},
   "outputs": [],
   "source": [
    "train_test_df = pd.concat([train_df.drop(\"target\", axis = 1), test_df])\n",
    "tt_df_times = train_test_df[times]\n",
    "tt_df_sites = train_test_df[sites].fillna(0).astype('int')"
   ]
  },
  {
   "cell_type": "code",
   "execution_count": null,
   "metadata": {},
   "outputs": [],
   "source": []
  },
  {
   "cell_type": "code",
   "execution_count": 159,
   "metadata": {},
   "outputs": [],
   "source": [
    "def part_of_day(start_hour):\n",
    "    if 6 <= start_hour < 10: \n",
    "        return 0\n",
    "    elif 10 <= start_hour < 17: \n",
    "        return 1\n",
    "    elif 17 <= start_hour <= 24: \n",
    "        return 2\n",
    "    elif 0 <= start_hour <= 5: \n",
    "        return 3\n",
    "def count_unique(sites):\n",
    "    n = []\n",
    "    for i in range(len(sites)):\n",
    "        n.append(sites.iloc[i].nunique()-\n",
    "                      int(0 in sites.iloc[i].values))\n",
    "    return n\n",
    "def test(data, sites_df):\n",
    "    res = pd.DataFrame()\n",
    "    start = data.min(axis=1, skipna=True)\n",
    "    finish = data.max(axis=1, skipna=True)\n",
    "#     data = data.replace(np.datetime64('NaT'), 0)\n",
    "    ## Разбитие длин сессий\n",
    "    diff = finish - start\n",
    "    res['diff'] = diff.apply(lambda ts: int(ts.total_seconds()))\n",
    "    ## Создаем новые признаки на основе времени\n",
    "    ## Для начала классифицируем по частям дням\n",
    "    temp = start.dt.hour\n",
    "    res['hour'] = temp\n",
    "    res['part_of_day'] = temp.apply(part_of_day)\n",
    "#     res['morning'] = ((6 <= temp) & (temp < 10)).astype('int')\n",
    "#     res['day'] = ((10 <= temp) & (temp < 17)).astype('int')\n",
    "#     res['evening'] = ((17 <= temp) & (temp <= 24)).astype('int')\n",
    "#     res['night'] = ((0 <= temp) & (temp < 5)).astype('int')\n",
    "\n",
    "    ## Теперь укажем какой день недели и дополнительно является ли день выходным\n",
    "    temp = start.dt.dayofweek\n",
    "    res['dayofweek'] = temp\n",
    "#     res['mon'] = (temp==0).astype('int')\n",
    "#     res['thu'] = (temp==1).astype('int')\n",
    "#     res['the'] = (temp==2).astype('int')\n",
    "#     res['tue'] = (temp==3).astype('int')\n",
    "#     res['fri'] = (temp==4).astype('int')\n",
    "#     res['sat'] = (temp==5).astype('int')\n",
    "#     res['sun'] = (temp==6).astype('int')\n",
    "    res['holiday'] = ((temp == 5 ) | (temp == 6)).astype('int')\n",
    "    ## укажем месяц\n",
    "    temp = start.dt.month\n",
    "    res['month'] = temp\n",
    "    ## и год\n",
    "    temp = start.dt.year\n",
    "    res['year'] = temp\n",
    "    ## Возмоно сцепление год+месяц будет полезней чем просто месяц\n",
    "    res['year_month'] = temp*100 + res['month']\n",
    "    ## Добавим число уникальных сайтов в сессии\n",
    "    res['nunique'] = count_unique(sites_df)\n",
    "    \n",
    "    return res"
   ]
  },
  {
   "cell_type": "markdown",
   "metadata": {},
   "source": [
    "**Создадим новые признаки:** Продолжительность сессии, часть дня, день недели, выходные, месяц, год, количество уникальных сайтов в сессии "
   ]
  },
  {
   "cell_type": "code",
   "execution_count": 160,
   "metadata": {},
   "outputs": [
    {
     "data": {
      "text/html": [
       "<div>\n",
       "<style scoped>\n",
       "    .dataframe tbody tr th:only-of-type {\n",
       "        vertical-align: middle;\n",
       "    }\n",
       "\n",
       "    .dataframe tbody tr th {\n",
       "        vertical-align: top;\n",
       "    }\n",
       "\n",
       "    .dataframe thead th {\n",
       "        text-align: right;\n",
       "    }\n",
       "</style>\n",
       "<table border=\"1\" class=\"dataframe\">\n",
       "  <thead>\n",
       "    <tr style=\"text-align: right;\">\n",
       "      <th></th>\n",
       "      <th>diff</th>\n",
       "      <th>hour</th>\n",
       "      <th>part_of_day</th>\n",
       "      <th>dayofweek</th>\n",
       "      <th>holiday</th>\n",
       "      <th>month</th>\n",
       "      <th>year</th>\n",
       "      <th>year_month</th>\n",
       "      <th>nunique</th>\n",
       "    </tr>\n",
       "    <tr>\n",
       "      <th>session_id</th>\n",
       "      <th></th>\n",
       "      <th></th>\n",
       "      <th></th>\n",
       "      <th></th>\n",
       "      <th></th>\n",
       "      <th></th>\n",
       "      <th></th>\n",
       "      <th></th>\n",
       "      <th></th>\n",
       "    </tr>\n",
       "  </thead>\n",
       "  <tbody>\n",
       "    <tr>\n",
       "      <th>1</th>\n",
       "      <td>0</td>\n",
       "      <td>10</td>\n",
       "      <td>1</td>\n",
       "      <td>3</td>\n",
       "      <td>0</td>\n",
       "      <td>2</td>\n",
       "      <td>2014</td>\n",
       "      <td>201402</td>\n",
       "      <td>1</td>\n",
       "    </tr>\n",
       "    <tr>\n",
       "      <th>2</th>\n",
       "      <td>26</td>\n",
       "      <td>11</td>\n",
       "      <td>1</td>\n",
       "      <td>5</td>\n",
       "      <td>1</td>\n",
       "      <td>2</td>\n",
       "      <td>2014</td>\n",
       "      <td>201402</td>\n",
       "      <td>7</td>\n",
       "    </tr>\n",
       "    <tr>\n",
       "      <th>3</th>\n",
       "      <td>7</td>\n",
       "      <td>16</td>\n",
       "      <td>1</td>\n",
       "      <td>0</td>\n",
       "      <td>0</td>\n",
       "      <td>12</td>\n",
       "      <td>2013</td>\n",
       "      <td>201312</td>\n",
       "      <td>4</td>\n",
       "    </tr>\n",
       "    <tr>\n",
       "      <th>4</th>\n",
       "      <td>270</td>\n",
       "      <td>10</td>\n",
       "      <td>1</td>\n",
       "      <td>4</td>\n",
       "      <td>0</td>\n",
       "      <td>3</td>\n",
       "      <td>2014</td>\n",
       "      <td>201403</td>\n",
       "      <td>1</td>\n",
       "    </tr>\n",
       "    <tr>\n",
       "      <th>5</th>\n",
       "      <td>246</td>\n",
       "      <td>10</td>\n",
       "      <td>1</td>\n",
       "      <td>4</td>\n",
       "      <td>0</td>\n",
       "      <td>2</td>\n",
       "      <td>2014</td>\n",
       "      <td>201402</td>\n",
       "      <td>4</td>\n",
       "    </tr>\n",
       "    <tr>\n",
       "      <th>6</th>\n",
       "      <td>686</td>\n",
       "      <td>15</td>\n",
       "      <td>1</td>\n",
       "      <td>1</td>\n",
       "      <td>0</td>\n",
       "      <td>3</td>\n",
       "      <td>2014</td>\n",
       "      <td>201403</td>\n",
       "      <td>2</td>\n",
       "    </tr>\n",
       "    <tr>\n",
       "      <th>7</th>\n",
       "      <td>102</td>\n",
       "      <td>16</td>\n",
       "      <td>1</td>\n",
       "      <td>3</td>\n",
       "      <td>0</td>\n",
       "      <td>2</td>\n",
       "      <td>2014</td>\n",
       "      <td>201402</td>\n",
       "      <td>7</td>\n",
       "    </tr>\n",
       "    <tr>\n",
       "      <th>8</th>\n",
       "      <td>6</td>\n",
       "      <td>10</td>\n",
       "      <td>1</td>\n",
       "      <td>4</td>\n",
       "      <td>0</td>\n",
       "      <td>4</td>\n",
       "      <td>2013</td>\n",
       "      <td>201304</td>\n",
       "      <td>7</td>\n",
       "    </tr>\n",
       "    <tr>\n",
       "      <th>9</th>\n",
       "      <td>45</td>\n",
       "      <td>16</td>\n",
       "      <td>1</td>\n",
       "      <td>0</td>\n",
       "      <td>0</td>\n",
       "      <td>3</td>\n",
       "      <td>2014</td>\n",
       "      <td>201403</td>\n",
       "      <td>7</td>\n",
       "    </tr>\n",
       "    <tr>\n",
       "      <th>10</th>\n",
       "      <td>87</td>\n",
       "      <td>16</td>\n",
       "      <td>1</td>\n",
       "      <td>3</td>\n",
       "      <td>0</td>\n",
       "      <td>2</td>\n",
       "      <td>2014</td>\n",
       "      <td>201402</td>\n",
       "      <td>6</td>\n",
       "    </tr>\n",
       "  </tbody>\n",
       "</table>\n",
       "</div>"
      ],
      "text/plain": [
       "            diff  hour  part_of_day  dayofweek  holiday  month  year  \\\n",
       "session_id                                                             \n",
       "1              0    10            1          3        0      2  2014   \n",
       "2             26    11            1          5        1      2  2014   \n",
       "3              7    16            1          0        0     12  2013   \n",
       "4            270    10            1          4        0      3  2014   \n",
       "5            246    10            1          4        0      2  2014   \n",
       "6            686    15            1          1        0      3  2014   \n",
       "7            102    16            1          3        0      2  2014   \n",
       "8              6    10            1          4        0      4  2013   \n",
       "9             45    16            1          0        0      3  2014   \n",
       "10            87    16            1          3        0      2  2014   \n",
       "\n",
       "            year_month  nunique  \n",
       "session_id                       \n",
       "1               201402        1  \n",
       "2               201402        7  \n",
       "3               201312        4  \n",
       "4               201403        1  \n",
       "5               201402        4  \n",
       "6               201403        2  \n",
       "7               201402        7  \n",
       "8               201304        7  \n",
       "9               201403        7  \n",
       "10              201402        6  "
      ]
     },
     "execution_count": 160,
     "metadata": {},
     "output_type": "execute_result"
    }
   ],
   "source": [
    "tt_df_feats= test(tt_df_times, tt_df_sites)\n",
    "tt_df_feats.head(10)"
   ]
  },
  {
   "cell_type": "markdown",
   "metadata": {},
   "source": [
    "## Первичный визуальный анализ признаков"
   ]
  },
  {
   "cell_type": "markdown",
   "metadata": {},
   "source": [
    "Для начала сделаем датасет для анализа признаков"
   ]
  },
  {
   "cell_type": "code",
   "execution_count": 161,
   "metadata": {},
   "outputs": [],
   "source": [
    "an_df = tt_df_feats[:len(y)]\n",
    "an_df['target'] = y"
   ]
  },
  {
   "cell_type": "markdown",
   "metadata": {},
   "source": [
    "Сперва посмотрим на различие по частям дня. \n",
    "Из графика понятно, что Элис:\n",
    "* В сети вечером чаще, чем остальная совокупность пользователей\n",
    "* В сети утром реже, чем остальная совокупность пользователей"
   ]
  },
  {
   "cell_type": "code",
   "execution_count": 162,
   "metadata": {},
   "outputs": [
    {
     "data": {
      "image/png": "[encoded data removed]",
      "text/plain": [
       "<Figure size 720x216 with 2 Axes>"
      ]
     },
     "metadata": {
      "needs_background": "light"
     },
     "output_type": "display_data"
    }
   ],
   "source": [
    "fig, axes = plt.subplots(nrows=1, ncols=2, figsize=(10, 3))\n",
    "color_dic = {1:'blue', 0:'red'}\n",
    "# как вариант, можно и по-другому\n",
    "for idx, (user, sub_df) in  enumerate(pd.groupby(an_df, 'target')): \n",
    "    bins = range(0, 5)\n",
    "    temp = sub_df['part_of_day']\n",
    "    axes[idx].hist(temp, label=user, color=color_dic[user], edgecolor='black', bins = bins, align = 'left')     \n",
    "    axes[idx].set_xlabel('часть дня')\n",
    "    axes[idx].set_ylabel('Количество сессий')\n",
    "    axes[idx].legend()\n",
    "    axes[idx].set_xticks(range(0, 5))\n",
    "    \n",
    "    axes[idx].set_xticklabels([\"утро\", \"день\",\"вечер\", \"ночь\"])"
   ]
  },
  {
   "cell_type": "markdown",
   "metadata": {},
   "source": [
    "Затем на различие продолжительности сессии. \n",
    "\n",
    "Сдесь понятно что сессии Элис, по продолжительности распределения практически пропорциональны, остальным пользователям"
   ]
  },
  {
   "cell_type": "code",
   "execution_count": 163,
   "metadata": {},
   "outputs": [
    {
     "data": {
      "image/png": "[encoded data removed]",
      "text/plain": [
       "<Figure size 720x216 with 2 Axes>"
      ]
     },
     "metadata": {
      "needs_background": "light"
     },
     "output_type": "display_data"
    }
   ],
   "source": [
    "fig, axes = plt.subplots(nrows=1, ncols=2, figsize=(10, 3))\n",
    "\n",
    "for idx, (user, sub_df) in  enumerate(pd.groupby(an_df, 'target')): \n",
    "    temp = sub_df['diff']\n",
    "    axes[idx].hist(temp, label=user, color=color_dic[user], edgecolor='black', align = 'left')     \n",
    "    axes[idx].set_xlabel('Продолжительность сессии')\n",
    "    axes[idx].set_ylabel('Количество сессий')\n",
    "    axes[idx].legend()"
   ]
  },
  {
   "cell_type": "code",
   "execution_count": 164,
   "metadata": {},
   "outputs": [
    {
     "data": {
      "image/png": "[encoded data removed]",
      "text/plain": [
       "<Figure size 720x216 with 2 Axes>"
      ]
     },
     "metadata": {
      "needs_background": "light"
     },
     "output_type": "display_data"
    }
   ],
   "source": [
    "fig, axes = plt.subplots(nrows=1, ncols=2, figsize=(10, 3))\n",
    "\n",
    "for idx, (user, sub_df) in  enumerate(pd.groupby(an_df, 'target')): \n",
    "    temp = sub_df['diff']\n",
    "    axes[idx].hist(temp, label=user, color=color_dic[user], edgecolor='black', align = 'left', range = (250, 1750))     \n",
    "    axes[idx].set_xlabel('Продолжительность сессии')\n",
    "    axes[idx].set_ylabel('Количество сессий')\n",
    "    axes[idx].legend()"
   ]
  },
  {
   "cell_type": "markdown",
   "metadata": {},
   "source": [
    "День недели.\n",
    "\n",
    "Как видно:\n",
    "* Элис реже остальных пользователей сидит в выходные, и вообще не сидит по воскресеньям\n",
    "* Также практически полностью отсутствуют активность по средам\n",
    "* Пик в отличии от остальной совокупность в понедельники"
   ]
  },
  {
   "cell_type": "code",
   "execution_count": 165,
   "metadata": {},
   "outputs": [
    {
     "data": {
      "image/png": "[encoded data removed]",
      "text/plain": [
       "<Figure size 720x216 with 2 Axes>"
      ]
     },
     "metadata": {
      "needs_background": "light"
     },
     "output_type": "display_data"
    }
   ],
   "source": [
    "fig, axes = plt.subplots(nrows=1, ncols=2, figsize=(10, 3))\n",
    "# как вариант, можно и по-другому\n",
    "for idx, (user, sub_df) in  enumerate(pd.groupby(an_df, 'target')): \n",
    "    bins = range(0, 8)\n",
    "    temp = sub_df['dayofweek']\n",
    "    axes[idx].hist(temp, label=user, color=color_dic[user], edgecolor='black', bins = bins, align = 'left')     \n",
    "    axes[idx].set_xlabel('День недели')\n",
    "    axes[idx].set_ylabel('Количество сессий')\n",
    "    axes[idx].legend()\n",
    "    axes[idx].set_xticks(range(0, 8))\n",
    "    \n",
    "    axes[idx].set_xticklabels([\"пон\", \"втр\",\"ср\", \"чт\", \"пт\", \"суб\", \"вс\"])"
   ]
  },
  {
   "cell_type": "markdown",
   "metadata": {},
   "source": [
    "Выходные \n",
    "\n",
    "У Элис активность по выходным ниже"
   ]
  },
  {
   "cell_type": "code",
   "execution_count": 166,
   "metadata": {
    "scrolled": true
   },
   "outputs": [
    {
     "data": {
      "image/png": "[encoded data removed]",
      "text/plain": [
       "<Figure size 720x216 with 2 Axes>"
      ]
     },
     "metadata": {
      "needs_background": "light"
     },
     "output_type": "display_data"
    }
   ],
   "source": [
    "fig, axes = plt.subplots(nrows=1, ncols=2, figsize=(10, 3))\n",
    "# как вариант, можно и по-другому\n",
    "for idx, (user, sub_df) in  enumerate(pd.groupby(an_df, 'target')): \n",
    "    bins = range(0, 3)\n",
    "    temp = sub_df['holiday']\n",
    "    axes[idx].hist(temp, label=user, color=color_dic[user], edgecolor='black', bins = bins, align = 'left')     \n",
    "    axes[idx].set_xlabel('Выходной')\n",
    "    axes[idx].set_ylabel('Количество сессий')\n",
    "    axes[idx].legend()\n",
    "    axes[idx].set_xticks(range(0, 3))\n",
    "    \n",
    "    axes[idx].set_xticklabels(['Нет','Да'])"
   ]
  },
  {
   "cell_type": "markdown",
   "metadata": {},
   "source": [
    "Месяц\n",
    "\n",
    "Исходя из графика:\n",
    "* Элис полностью оффлайн с мая по август и еще в октябре\n",
    "* У Элис активность ниже активность в сентябре, но выше в ноябре и намного выше в сентябре"
   ]
  },
  {
   "cell_type": "code",
   "execution_count": 167,
   "metadata": {},
   "outputs": [
    {
     "data": {
      "image/png": "[encoded data removed]",
      "text/plain": [
       "<Figure size 720x216 with 2 Axes>"
      ]
     },
     "metadata": {
      "needs_background": "light"
     },
     "output_type": "display_data"
    }
   ],
   "source": [
    "fig, axes = plt.subplots(nrows=1, ncols=2, figsize=(10, 3))\n",
    "# как вариант, можно и по-другому\n",
    "for idx, (user, sub_df) in  enumerate(pd.groupby(an_df, 'target')): \n",
    "    bins = range(1, 14)\n",
    "    temp = sub_df['month']\n",
    "    axes[idx].hist(temp, label=user, color=color_dic[user], edgecolor='black', bins = bins, align = 'left')     \n",
    "    axes[idx].set_xlabel('Месяц')\n",
    "    axes[idx].set_ylabel('Количество сессий')\n",
    "    axes[idx].legend()\n",
    "    axes[idx].set_xticks(range(1, 14))"
   ]
  },
  {
   "cell_type": "markdown",
   "metadata": {},
   "source": [
    "Год\n",
    "\n",
    "У Элис пропорция данных по годам более равносерна распределена чем у остальных данных"
   ]
  },
  {
   "cell_type": "code",
   "execution_count": 168,
   "metadata": {},
   "outputs": [
    {
     "data": {
      "image/png": "[encoded data removed]",
      "text/plain": [
       "<Figure size 720x216 with 2 Axes>"
      ]
     },
     "metadata": {
      "needs_background": "light"
     },
     "output_type": "display_data"
    }
   ],
   "source": [
    "fig, axes = plt.subplots(nrows=1, ncols=2, figsize=(10, 3))\n",
    "# как вариант, можно и по-другому\n",
    "for idx, (user, sub_df) in  enumerate(pd.groupby(an_df, 'target')): \n",
    "    bins = range(2013, 2016)\n",
    "    temp = sub_df['year']\n",
    "    axes[idx].hist(temp, label=user, color=color_dic[user], edgecolor='black', bins =bins, align = 'left')     \n",
    "    axes[idx].set_xlabel('Год')\n",
    "    axes[idx].set_ylabel('Количество сессий')\n",
    "    axes[idx].legend()\n",
    "    axes[idx].set_xticks(range(2013, 2015))"
   ]
  },
  {
   "cell_type": "markdown",
   "metadata": {},
   "source": [
    "Уникальные сайты\n",
    "\n",
    "Распределение уникальных сайтов сессии,различаются, у Элис оно больше похоже на нормальное. "
   ]
  },
  {
   "cell_type": "code",
   "execution_count": 169,
   "metadata": {},
   "outputs": [
    {
     "data": {
      "image/png": "[encoded data removed]",
      "text/plain": [
       "<Figure size 720x216 with 2 Axes>"
      ]
     },
     "metadata": {
      "needs_background": "light"
     },
     "output_type": "display_data"
    }
   ],
   "source": [
    "fig, axes = plt.subplots(nrows=1, ncols=2, figsize=(10, 3))\n",
    "# как вариант, можно и по-другому\n",
    "for idx, (user, sub_df) in  enumerate(pd.groupby(an_df, 'target')): \n",
    "    bins = range(1, 12)\n",
    "    temp = sub_df['nunique']\n",
    "    axes[idx].hist(temp, label=user, color=color_dic[user], edgecolor='black', bins = bins, align = 'left')     \n",
    "    axes[idx].set_xlabel('Число уникальных сайтов')\n",
    "    axes[idx].set_ylabel('Количество сессий')\n",
    "    axes[idx].legend()\n",
    "    axes[idx].set_xticks(range(1, 12))"
   ]
  },
  {
   "cell_type": "markdown",
   "metadata": {},
   "source": [
    "## Предобработка данных для обучения"
   ]
  },
  {
   "cell_type": "code",
   "execution_count": null,
   "metadata": {},
   "outputs": [
    {
     "data": {
      "text/html": [
       "<div>\n",
       "<style scoped>\n",
       "    .dataframe tbody tr th:only-of-type {\n",
       "        vertical-align: middle;\n",
       "    }\n",
       "\n",
       "    .dataframe tbody tr th {\n",
       "        vertical-align: top;\n",
       "    }\n",
       "\n",
       "    .dataframe thead th {\n",
       "        text-align: right;\n",
       "    }\n",
       "</style>\n",
       "<table border=\"1\" class=\"dataframe\">\n",
       "  <thead>\n",
       "    <tr style=\"text-align: right;\">\n",
       "      <th></th>\n",
       "      <th>diff</th>\n",
       "      <th>hour</th>\n",
       "      <th>part_of_day</th>\n",
       "      <th>dayofweek</th>\n",
       "      <th>holiday</th>\n",
       "      <th>month</th>\n",
       "      <th>year</th>\n",
       "      <th>year_month</th>\n",
       "      <th>nunique</th>\n",
       "    </tr>\n",
       "    <tr>\n",
       "      <th>session_id</th>\n",
       "      <th></th>\n",
       "      <th></th>\n",
       "      <th></th>\n",
       "      <th></th>\n",
       "      <th></th>\n",
       "      <th></th>\n",
       "      <th></th>\n",
       "      <th></th>\n",
       "      <th></th>\n",
       "    </tr>\n",
       "  </thead>\n",
       "  <tbody>\n",
       "    <tr>\n",
       "      <th>1</th>\n",
       "      <td>0</td>\n",
       "      <td>10</td>\n",
       "      <td>1</td>\n",
       "      <td>3</td>\n",
       "      <td>0</td>\n",
       "      <td>2</td>\n",
       "      <td>2014</td>\n",
       "      <td>201402</td>\n",
       "      <td>1</td>\n",
       "    </tr>\n",
       "    <tr>\n",
       "      <th>2</th>\n",
       "      <td>26</td>\n",
       "      <td>11</td>\n",
       "      <td>1</td>\n",
       "      <td>5</td>\n",
       "      <td>1</td>\n",
       "      <td>2</td>\n",
       "      <td>2014</td>\n",
       "      <td>201402</td>\n",
       "      <td>7</td>\n",
       "    </tr>\n",
       "    <tr>\n",
       "      <th>3</th>\n",
       "      <td>7</td>\n",
       "      <td>16</td>\n",
       "      <td>1</td>\n",
       "      <td>0</td>\n",
       "      <td>0</td>\n",
       "      <td>12</td>\n",
       "      <td>2013</td>\n",
       "      <td>201312</td>\n",
       "      <td>4</td>\n",
       "    </tr>\n",
       "    <tr>\n",
       "      <th>4</th>\n",
       "      <td>270</td>\n",
       "      <td>10</td>\n",
       "      <td>1</td>\n",
       "      <td>4</td>\n",
       "      <td>0</td>\n",
       "      <td>3</td>\n",
       "      <td>2014</td>\n",
       "      <td>201403</td>\n",
       "      <td>1</td>\n",
       "    </tr>\n",
       "    <tr>\n",
       "      <th>5</th>\n",
       "      <td>246</td>\n",
       "      <td>10</td>\n",
       "      <td>1</td>\n",
       "      <td>4</td>\n",
       "      <td>0</td>\n",
       "      <td>2</td>\n",
       "      <td>2014</td>\n",
       "      <td>201402</td>\n",
       "      <td>4</td>\n",
       "    </tr>\n",
       "  </tbody>\n",
       "</table>\n",
       "</div>"
      ],
      "text/plain": [
       "            diff  hour  part_of_day  dayofweek  holiday  month  year  \\\n",
       "session_id                                                             \n",
       "1              0    10            1          3        0      2  2014   \n",
       "2             26    11            1          5        1      2  2014   \n",
       "3              7    16            1          0        0     12  2013   \n",
       "4            270    10            1          4        0      3  2014   \n",
       "5            246    10            1          4        0      2  2014   \n",
       "\n",
       "            year_month  nunique  \n",
       "session_id                       \n",
       "1               201402        1  \n",
       "2               201402        7  \n",
       "3               201312        4  \n",
       "4               201403        1  \n",
       "5               201402        4  "
      ]
     },
     "execution_count": 170,
     "metadata": {},
     "output_type": "execute_result"
    }
   ],
   "source": [
    "tt_df_feats.head()"
   ]
  },
  {
   "cell_type": "markdown",
   "metadata": {},
   "source": [
    "Сделаем dummies"
   ]
  },
  {
   "cell_type": "code",
   "execution_count": null,
   "metadata": {},
   "outputs": [],
   "source": [
    "ohe_columns = ['hour', 'part_of_day', 'dayofweek', 'month', 'year', 'year_month', 'nunique']\n",
    "not_ohe_columns = ['diff', 'holiday']\n",
    "\n",
    "tt_df_dumms = pd.get_dummies(tt_df_feats, columns=ohe_columns, sparse=True, drop_first=True)"
   ]
  },
  {
   "cell_type": "markdown",
   "metadata": {},
   "source": [
    "Трансформируем в sparse датасет со списком сайтов"
   ]
  },
  {
   "cell_type": "code",
   "execution_count": null,
   "metadata": {},
   "outputs": [],
   "source": [
    "def get_sparse_matrix(matrix):\n",
    "    X = matrix.values\n",
    "    \n",
    "    i = 0\n",
    "    data = list()\n",
    "    col = list()\n",
    "    rows = list()\n",
    "    for row in X:\n",
    "        unique, counts = np.unique(row, return_counts=True)\n",
    "        dic = dict(zip(unique, counts))\n",
    "        for k in dic:\n",
    "            if k != 0:\n",
    "                data.append(dic[k])\n",
    "                rows.append(i)\n",
    "                col.append(k-1)\n",
    "            \n",
    "        i += 1\n",
    "    X_sparse = csr_matrix((data, (rows, col)))\n",
    "    return X_sparse"
   ]
  },
  {
   "cell_type": "code",
   "execution_count": null,
   "metadata": {},
   "outputs": [],
   "source": [
    "tt_sparse = get_sparse_matrix(tt_df_sites)\n",
    "sp_train = tt_sparse[:y.shape[0]]\n",
    "sp_test = tt_sparse[y.shape[0]:]\n",
    "\n",
    "scaler = StandardScaler()\n",
    "scaled_sparse = scaler.fit_transform(tt_df_dumms)"
   ]
  },
  {
   "cell_type": "code",
   "execution_count": null,
   "metadata": {
    "scrolled": true
   },
   "outputs": [],
   "source": [
    "train_sparse = hstack([sp_train, scaled_sparse[:y.shape[0]]])\n",
    "test_sparse = hstack([sp_test, scaled_sparse[y.shape[0]:]])"
   ]
  },
  {
   "cell_type": "markdown",
   "metadata": {},
   "source": [
    "## Кросс-валидация, построение кривых валидации и обучения"
   ]
  },
  {
   "cell_type": "code",
   "execution_count": null,
   "metadata": {},
   "outputs": [],
   "source": [
    "def to_submission(predicted_labels, output):\n",
    "    pred = pd.DataFrame(predicted_labels[:, 1],\n",
    "                        index = np.arange(1, predicted_labels.shape[0] + 1),\n",
    "                        columns=['target'])\n",
    "    pred.to_csv(output, index_label='session_id')"
   ]
  },
  {
   "cell_type": "code",
   "execution_count": null,
   "metadata": {},
   "outputs": [],
   "source": [
    "def try_out(est):\n",
    "    est.fit(X_train, y_train)\n",
    "    pred = est.predict_proba(X_valid)\n",
    "    score_val = roc_auc_score(y_valid, pred[:, 1])\n",
    "    score_cv =  np.mean(cross_val_score(est, train_sparse, y, cv=skf, scoring='roc_auc'))\n",
    "    print(f'Оценка на кросc валидации: {score_cv}\\nОценка на отложенной выборке: {score_val}')"
   ]
  },
  {
   "cell_type": "code",
   "execution_count": null,
   "metadata": {},
   "outputs": [],
   "source": [
    "X_train, X_valid, y_train, y_valid = train_test_split(train_sparse, y, \n",
    "                                                      test_size=0.3, stratify=y)\n",
    "skf = StratifiedKFold(n_splits=5, shuffle=True)"
   ]
  },
  {
   "cell_type": "code",
   "execution_count": null,
   "metadata": {},
   "outputs": [],
   "source": [
    "%%time\n",
    "logit = LogisticRegression(C = 1, n_jobs=-1)\n",
    "\n",
    "try_out(logit)"
   ]
  },
  {
   "cell_type": "code",
   "execution_count": null,
   "metadata": {},
   "outputs": [],
   "source": [
    "Оценка на кросc валидации: 0.9899351175079687\n",
    "Оценка на отложенной выборке: 0.9901801843085503\n",
    "Wall time: 6min 28s"
   ]
  },
  {
   "cell_type": "markdown",
   "metadata": {},
   "source": [
    "Теперь попробуем оптимизировать отдельно C"
   ]
  },
  {
   "cell_type": "code",
   "execution_count": 48,
   "metadata": {},
   "outputs": [
    {
     "name": "stdout",
     "output_type": "stream",
     "text": [
      "Wall time: 12min 47s\n"
     ]
    }
   ],
   "source": [
    "%%time\n",
    "Cs = np.linspace(1e-3, 2, 10)\n",
    "\n",
    "log_c = LogisticRegressionCV(Cs = Cs, multi_class ='multinomial', n_jobs = -1, cv=skf)\n",
    "log_c.fit(X_train, y_train)"
   ]
  },
  {
   "cell_type": "code",
   "execution_count": 50,
   "metadata": {},
   "outputs": [],
   "source": [
    "das = []\n",
    "for string in log_c.scores_:\n",
    "    if string<=9:\n",
    "        das.append(np.mean(log_c.scores_[string], axis = 0))\n",
    "das = np.array(das)\n",
    "log_c_scores = np.mean(das, axis = 0)"
   ]
  },
  {
   "cell_type": "code",
   "execution_count": 75,
   "metadata": {},
   "outputs": [
    {
     "data": {
      "text/plain": [
       "[<matplotlib.lines.Line2D at 0x24100370be0>]"
      ]
     },
     "execution_count": 75,
     "metadata": {},
     "output_type": "execute_result"
    },
    {
     "data": {
      "image/png": "[encoded data removed]",
      "text/plain": [
       "<Figure size 432x288 with 1 Axes>"
      ]
     },
     "metadata": {
      "needs_background": "light"
     },
     "output_type": "display_data"
    }
   ],
   "source": [
    "plt.plot(Cs, log_c_scores)"
   ]
  },
  {
   "cell_type": "code",
   "execution_count": 53,
   "metadata": {},
   "outputs": [
    {
     "name": "stdout",
     "output_type": "stream",
     "text": [
      "0.9949011791181643\n",
      "2.0\n"
     ]
    }
   ],
   "source": [
    "print(np.max(log_c_scores))\n",
    "print(Cs[np.argmax(log_c_scores)])"
   ]
  },
  {
   "cell_type": "code",
   "execution_count": 64,
   "metadata": {},
   "outputs": [
    {
     "name": "stdout",
     "output_type": "stream",
     "text": [
      "Оценка на кросc валидации: 0.9904376117507218\n",
      "Оценка на отложенной выборке: 0.9904394993763576\n",
      "Wall time: 8min 25s\n"
     ]
    }
   ],
   "source": [
    "%%time\n",
    "logCV = LogisticRegression(n_jobs = -1, C=Cs[np.argmax(log_c_scores)])\n",
    "                           \n",
    "try_out(logCV)"
   ]
  },
  {
   "cell_type": "markdown",
   "metadata": {},
   "source": [
    "Как видим результат практически не изменился\n",
    "\n",
    "Теперь построим кривую обучения"
   ]
  },
  {
   "cell_type": "code",
   "execution_count": 76,
   "metadata": {},
   "outputs": [],
   "source": [
    "def plot_learning_curve(estimator, X, y, cv=None):\n",
    "    parts = np.linspace(.1, 1.0, 10)\n",
    "    plt.figure()\n",
    "    plt.title('LogisticRegression')\n",
    "    plt.xlabel(\"Training examples\")\n",
    "    plt.ylabel('roc_auc score')\n",
    "    train_sizes, train_scores, test_scores = learning_curve(\n",
    "        estimator, X, y, cv=cv, n_jobs=-1, train_sizes=parts, scoring='roc_auc')\n",
    "    train_scores_mean = np.mean(train_scores, axis=1)\n",
    "    train_scores_std = np.std(train_scores, axis=1)\n",
    "    test_scores_mean = np.mean(test_scores, axis=1)\n",
    "    test_scores_std = np.std(test_scores, axis=1)\n",
    "    plt.grid()\n",
    "    plt.fill_between(train_sizes, train_scores_mean - train_scores_std,\n",
    "                     train_scores_mean + train_scores_std, alpha=0.1,\n",
    "                     color=\"r\")\n",
    "    plt.fill_between(train_sizes, test_scores_mean - test_scores_std,\n",
    "                     test_scores_mean + test_scores_std, alpha=0.1, color=\"g\")\n",
    "    plt.plot(train_sizes, train_scores_mean, 'o-', color=\"r\",\n",
    "             label=\"Training score\")\n",
    "    plt.plot(train_sizes, test_scores_mean, 'o-', color=\"g\",\n",
    "             label=\"Cross-validation score\")\n",
    "    plt.legend()\n",
    "    return plt"
   ]
  },
  {
   "cell_type": "code",
   "execution_count": 77,
   "metadata": {},
   "outputs": [
    {
     "name": "stdout",
     "output_type": "stream",
     "text": [
      "Wall time: 10min 23s\n"
     ]
    },
    {
     "data": {
      "text/plain": [
       "<module 'matplotlib.pyplot' from 'D:\\\\Programs_2\\\\Anaconda3\\\\lib\\\\site-packages\\\\matplotlib\\\\pyplot.py'>"
      ]
     },
     "execution_count": 77,
     "metadata": {},
     "output_type": "execute_result"
    },
    {
     "data": {
      "image/png": "[encoded data removed]",
      "text/plain": [
       "<Figure size 432x288 with 1 Axes>"
      ]
     },
     "metadata": {
      "needs_background": "light"
     },
     "output_type": "display_data"
    }
   ],
   "source": [
    "%%time\n",
    "plot_learning_curve(LogCV, X_train, y_train, cv=skf)"
   ]
  },
  {
   "cell_type": "markdown",
   "metadata": {},
   "source": [
    "Теперь сделаем решение и запишем его в файл"
   ]
  },
  {
   "cell_type": "code",
   "execution_count": 85,
   "metadata": {},
   "outputs": [],
   "source": [
    "logCV.fit(train_sparse, y)\n",
    "solution = logCV.predict_proba(test_sparse)\n",
    "to_submission(solution, 'solution.csv')"
   ]
  },
  {
   "cell_type": "markdown",
   "metadata": {},
   "source": [
    "## Оценка модели и выводы"
   ]
  },
  {
   "cell_type": "markdown",
   "metadata": {},
   "source": [
    "Задача по идентификации отдельного пользователя, основываясь на его информационном следе в интернете, решается моделью довольно неплохо. Применятся она может, например:\n",
    "* Кластеризируем большую группы пользователей, в подгруппы, основываясь на полученных фичах. После этого можно будет узнать с пользователями из каких групп Элис имеет большое сходство. И если бы мы знали Элис или её интересы в реальной жизни, например она художник, и мы знаем что она использует для своей работы. Из этого мы сможем предположить, что группа к которой её отнесли будет нуждатся в тех же вещах что и она, и сможем так таргетировать для них некоторые товары, на часто посещаемые ими сайты. Также мы сразу же сможем увидеть какие сайты популярны в ее группе, и если Элис ими еще не пользуется порекомендовать их ей, возможно они будут ей поезны\n",
    "* Также если все пользователи были-бы размечены (известны их имена и например страницы в соцсетях) можно было-бы как-то знакомить похожих друг на друга пользователей.  \n",
    "* Можно использовать модель для слежки за пользователем, если-бы Элис зашла с другого устройства можно будет определить её по её поведению в сети.\n",
    "* Также например если Элис врач, и у нас будет еще несколько таких пользователей-врачей с подробной историей посещения сайтов, можно будет таргетировать например обьявления пойска врачей на часто посещаемые ими в отличие от остальных сатйты. Это предложение наверно похоже на первое.\n",
    "***\n",
    "В дальнейшем для улучшения модели можно попробовать использовать Tfidf, а также отфильтровать некоторые созданые признаки "
   ]
  }
 ],
 "metadata": {
  "kernelspec": {
   "display_name": "Python 3",
   "language": "python",
   "name": "python3"
  },
  "language_info": {
   "codemirror_mode": {
    "name": "ipython",
    "version": 3
   },
   "file_extension": ".py",
   "mimetype": "text/x-python",
   "name": "python",
   "nbconvert_exporter": "python",
   "pygments_lexer": "ipython3",
   "version": "3.7.1"
  }
 },
 "nbformat": 4,
 "nbformat_minor": 2
}
